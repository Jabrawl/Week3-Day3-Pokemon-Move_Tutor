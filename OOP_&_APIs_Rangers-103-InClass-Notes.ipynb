{
 "cells": [
  {
   "cell_type": "markdown",
   "metadata": {},
   "source": [
    "# Object Oriented Programming 2 - examples and APIs\n"
   ]
  },
  {
   "cell_type": "markdown",
   "metadata": {},
   "source": [
    "## Tasks Today:\n",
    "\n",
    "   \n",
    "\n",
    "1) <b>Shopping Cart Example</b> <br>\n",
    "2) <b>Requests and the pokemon API </b> <br>\n",
    " "
   ]
  },
  {
   "cell_type": "markdown",
   "metadata": {},
   "source": [
    "# Goal \n",
    "### build a shopping cart program with prices and quantities using objects and a dictionary"
   ]
  },
  {
   "cell_type": "code",
   "execution_count": 3,
   "metadata": {},
   "outputs": [
    {
     "name": "stdout",
     "output_type": "stream",
     "text": [
      "\n",
      "            Welcome to Aldo, we're the best and have great peanut butter cups. Try our strawberry Belle Vue\n",
      "            Options:\n",
      "            [1] Show Current Cart\n",
      "            [2] Add Item\n",
      "            [3] Remove Item\n",
      "            [4] Checkout\n",
      "            [5] Show Instructions\n",
      "        \n",
      "What would you like to do? 2\n",
      "What would you like to add? Banana\n",
      "How many new Banana(s) do you want to add? (insert number)6\n",
      "6 Banana(s) has/have been added to your cart!\n",
      "What would you like to do? show\n",
      "Invalid input, please try again!\n",
      "What would you like to do? 1\n",
      "Your cart has the following items: \n",
      "Banana | quantity: 6\n",
      "What would you like to do? 4\n",
      "Thanks for shopping at Aldi! Do you need any stamps, garbage stickers, or extreme value!\n",
      "Your cart has the following items: \n",
      "Banana | quantity: 6\n"
     ]
    }
   ],
   "source": [
    "from IPython.display import clear_output as clear\n",
    "# Create a class called cart that retains items and has methods to add, remove, and show\n",
    "\n",
    "class Cart():\n",
    "    \n",
    "    def __init__(self):\n",
    "        self.items = {}\n",
    "        \n",
    "    def add_item(self):\n",
    "        new_item = input(\"What would you like to add? \")\n",
    "        quantity = int(input(f\"How many new {new_item}(s) do you want to add? (insert number)\"))\n",
    "        if new_item != self.items:\n",
    "            self.items[new_item] = quantity\n",
    "        else:\n",
    "            self.items[new_item] += quantity\n",
    "        print(f\"{quantity} {new_item}(s) has/have been added to your cart!\")\n",
    "        \n",
    "    def remove_item(self):\n",
    "        discard = input(\"What would you like to remove? \")\n",
    "        quantity = int(input(\"How many would you like to remove? \"))\n",
    "        try:\n",
    "            self.items[discard] -= quantity\n",
    "            if self.items[discard] <= 0:\n",
    "                del self.items[discard]\n",
    "            print(f\"{quantity} {discard}(s) has/have been removed\")\n",
    "        except:\n",
    "            print(f\"{discard} was not in your cart!\")\n",
    "        self.show()\n",
    "    \n",
    "    def show(self):\n",
    "        print(\"Your cart has the following items: \")\n",
    "        for item, quantity in self.items.items():\n",
    "            print(f\"{item} | quantity: {quantity}\")\n",
    "            \n",
    "    def checkout(self):\n",
    "        if not self.items:\n",
    "            print(\"Please buy something before checking out! Don't be cheap!\")\n",
    "        else:\n",
    "            print(\"Thanks for shopping at Aldi! Do you need any stamps, garbage stickers, or extreme value!\")\n",
    "            self.show()\n",
    "            \n",
    "class Main:\n",
    "    def show_instructions():\n",
    "        print(\"\"\"\n",
    "            Welcome to Aldo, we're the best and have great peanut butter cups. Try our strawberry Belle Vue\n",
    "            Options:\n",
    "            [1] Show Current Cart\n",
    "            [2] Add Item\n",
    "            [3] Remove Item\n",
    "            [4] Checkout\n",
    "            [5] Show Instructions\n",
    "        \"\"\")\n",
    "    \n",
    "    def run():\n",
    "        Main.show_instructions()\n",
    "        my_cart = Cart()\n",
    "        \n",
    "        while True:\n",
    "            choice = input(\"What would you like to do? \")\n",
    "            if choice == '1':\n",
    "                if my_cart.items == {}:\n",
    "                    print(\"Your cart is empty, let's get shoppin!\")\n",
    "                else:\n",
    "                    my_cart.show()\n",
    "            elif choice == '2':\n",
    "                my_cart.add_item()\n",
    "                \n",
    "            elif choice == '3':\n",
    "                if my_cart.items() == {}:\n",
    "                    print(\"Your cart is empty! Please add something before trying to remove! Please.\")\n",
    "                else:\n",
    "                    my_cart.remove_item()\n",
    "            elif choice == '4':\n",
    "                my_cart.checkout()\n",
    "                break\n",
    "            elif choice == '5':\n",
    "                Main.show_instructions()\n",
    "            \n",
    "            else:\n",
    "                print(\"Invalid input, please try again!\")\n",
    "\n",
    "Main.run()"
   ]
  },
  {
   "cell_type": "markdown",
   "metadata": {},
   "source": [
    "# working with APis"
   ]
  },
  {
   "cell_type": "markdown",
   "metadata": {},
   "source": [
    "<p> What exactly is an API? <br> <br>\n",
    "API is the acronym for Application Programming Interface, which is a software intermediary that allows two applications to talk to each other. Each time you use an app like Facebook, send an instant message, or check the weather on your phone, you're using an API. </p>"
   ]
  },
  {
   "cell_type": "markdown",
   "metadata": {},
   "source": [
    "### The Poke API  allows you to retreive a pokemon's information from PokeAPI https://pokeapi.co/\n",
    "\n"
   ]
  },
  {
   "cell_type": "code",
   "execution_count": 5,
   "metadata": {},
   "outputs": [
    {
     "name": "stdout",
     "output_type": "stream",
     "text": [
      "Collecting requestsNote: you may need to restart the kernel to use updated packages.\n",
      "\n",
      "  Downloading requests-2.28.1-py3-none-any.whl (62 kB)\n",
      "     ---------------------------------------- 62.8/62.8 kB 1.1 MB/s eta 0:00:00\n",
      "Requirement already satisfied: idna<4,>=2.5 in c:\\users\\james\\appdata\\local\\programs\\python\\python310\\lib\\site-packages (from requests) (3.4)\n",
      "Collecting certifi>=2017.4.17\n",
      "  Downloading certifi-2022.12.7-py3-none-any.whl (155 kB)\n",
      "     -------------------------------------- 155.3/155.3 kB 1.5 MB/s eta 0:00:00\n",
      "Collecting urllib3<1.27,>=1.21.1\n",
      "  Downloading urllib3-1.26.14-py2.py3-none-any.whl (140 kB)\n",
      "     -------------------------------------- 140.6/140.6 kB 1.2 MB/s eta 0:00:00\n",
      "Collecting charset-normalizer<3,>=2\n",
      "  Downloading charset_normalizer-2.1.1-py3-none-any.whl (39 kB)\n",
      "Installing collected packages: urllib3, charset-normalizer, certifi, requests\n",
      "Successfully installed certifi-2022.12.7 charset-normalizer-2.1.1 requests-2.28.1 urllib3-1.26.14\n"
     ]
    },
    {
     "name": "stderr",
     "output_type": "stream",
     "text": [
      "\n",
      "[notice] A new release of pip available: 22.2.2 -> 22.3.1\n",
      "[notice] To update, run: python.exe -m pip install --upgrade pip\n"
     ]
    }
   ],
   "source": [
    "pip install requests"
   ]
  },
  {
   "cell_type": "code",
   "execution_count": 7,
   "metadata": {},
   "outputs": [
    {
     "name": "stdout",
     "output_type": "stream",
     "text": [
      "<Response [200]>\n",
      "dict_keys(['abilities', 'base_experience', 'forms', 'game_indices', 'height', 'held_items', 'id', 'is_default', 'location_area_encounters', 'moves', 'name', 'order', 'past_types', 'species', 'sprites', 'stats', 'types', 'weight'])\n"
     ]
    }
   ],
   "source": [
    "# making an API call\n",
    "import requests\n",
    "\n",
    "r = requests.get('https://pokeapi.co/api/v2/pokemon/ditto')\n",
    "print(r)\n",
    "\n",
    "if r.status_code == 200:\n",
    "    data = r.json()\n",
    "print(data.keys())"
   ]
  },
  {
   "cell_type": "markdown",
   "metadata": {},
   "source": [
    "### Display a Pokemon's name, weight, abilities, and types"
   ]
  },
  {
   "cell_type": "code",
   "execution_count": 8,
   "metadata": {},
   "outputs": [
    {
     "name": "stdout",
     "output_type": "stream",
     "text": [
      "ditto\n"
     ]
    }
   ],
   "source": [
    "# get the name\n",
    "name = data['name']\n",
    "print(name)"
   ]
  },
  {
   "cell_type": "code",
   "execution_count": 16,
   "metadata": {},
   "outputs": [
    {
     "name": "stdout",
     "output_type": "stream",
     "text": [
      "['normal']\n"
     ]
    }
   ],
   "source": [
    "# get types\n",
    "types = [type_['type']['name'] for type_ in data['types']]\n",
    "\n",
    "print(types)"
   ]
  },
  {
   "cell_type": "code",
   "execution_count": 17,
   "metadata": {},
   "outputs": [
    {
     "name": "stdout",
     "output_type": "stream",
     "text": [
      "40\n"
     ]
    }
   ],
   "source": [
    "# get weight\n",
    "weight = data['weight']\n",
    "print(weight)"
   ]
  },
  {
   "cell_type": "code",
   "execution_count": 18,
   "metadata": {},
   "outputs": [
    {
     "name": "stdout",
     "output_type": "stream",
     "text": [
      "['limber', 'imposter']\n"
     ]
    }
   ],
   "source": [
    "# get abilities\n",
    "abilities = [ability['ability']['name'] for ability in data['abilities']]\n",
    "print(abilities)"
   ]
  },
  {
   "cell_type": "code",
   "execution_count": 20,
   "metadata": {},
   "outputs": [
    {
     "name": "stdout",
     "output_type": "stream",
     "text": [
      "{'name': 'ditto', 'abilities': ['limber', 'imposter'], 'weight': 40, 'types': ['normal']}\n"
     ]
    }
   ],
   "source": [
    "# Create a structure for a single pokemon\n",
    "ditto = {\n",
    "    'name' : name,\n",
    "    'abilities' : abilities,\n",
    "    'weight': weight,\n",
    "    'types' : types\n",
    "}\n",
    "\n",
    "print(ditto)"
   ]
  },
  {
   "cell_type": "code",
   "execution_count": null,
   "metadata": {},
   "outputs": [],
   "source": []
  },
  {
   "cell_type": "markdown",
   "metadata": {},
   "source": [
    "#### Create a function to Pull in your own Pokemon's data "
   ]
  },
  {
   "cell_type": "code",
   "execution_count": 31,
   "metadata": {},
   "outputs": [
    {
     "data": {
      "text/plain": [
       "{'Jigglypuff': {'name': 'jigglypuff',\n",
       "  'types': ['normal', 'fairy'],\n",
       "  'abilities': ['cute-charm', 'competitive', 'friend-guard'],\n",
       "  'weight': 55},\n",
       " 'Hitmonlee': {'name': 'hitmonlee',\n",
       "  'types': ['fighting'],\n",
       "  'abilities': ['limber', 'reckless', 'unburden'],\n",
       "  'weight': 498},\n",
       " 'Rayquaza': {'name': 'rayquaza',\n",
       "  'types': ['dragon', 'flying'],\n",
       "  'abilities': ['air-lock'],\n",
       "  'weight': 2065},\n",
       " 'Ditto': {'name': 'ditto',\n",
       "  'types': ['normal'],\n",
       "  'abilities': ['limber', 'imposter'],\n",
       "  'weight': 40},\n",
       " 'Gyarados': {'name': 'gyarados',\n",
       "  'types': ['water', 'flying'],\n",
       "  'abilities': ['intimidate', 'moxie'],\n",
       "  'weight': 2350},\n",
       " 'Mewtwo': {'name': 'mewtwo',\n",
       "  'types': ['psychic'],\n",
       "  'abilities': ['pressure', 'unnerve'],\n",
       "  'weight': 1220}}"
      ]
     },
     "execution_count": 31,
     "metadata": {},
     "output_type": "execute_result"
    }
   ],
   "source": [
    "def poke_api_call(pokemon):\n",
    "    req = requests.get(f\"https://pokeapi.co/api/v2/pokemon/{pokemon}\")\n",
    "    if req.status_code == 200:\n",
    "        data = req.json()\n",
    "        \n",
    "        name = data['name']\n",
    "        types = [type_['type']['name'] for type_ in data['types']]\n",
    "        abilities = [ability['ability']['name'] for ability in data['abilities']]\n",
    "        weight = data['weight']\n",
    "        \n",
    "        poke = {\n",
    "            'name':name,\n",
    "            'types':types,\n",
    "            'abilities':abilities,\n",
    "            'weight':weight,\n",
    "        }\n",
    "        \n",
    "        return poke\n"
   ]
  },
  {
   "cell_type": "markdown",
   "metadata": {},
   "source": [
    "Choose your pokemon"
   ]
  },
  {
   "cell_type": "code",
   "execution_count": null,
   "metadata": {},
   "outputs": [],
   "source": [
    "from random import randint\n",
    "# Random number generated for each pokemon id\n",
    "random_team = [randint(1,898) for i in range(6)]\n",
    "\n",
    "your_team = ['electabuzz', 'haunter','tyranitar','blaziken','marowak','dragonair']\n"
   ]
  },
  {
   "cell_type": "markdown",
   "metadata": {},
   "source": [
    "#### Use your function to create a dictionary of your favorite 6 pokemon"
   ]
  },
  {
   "cell_type": "code",
   "execution_count": 32,
   "metadata": {},
   "outputs": [
    {
     "data": {
      "text/plain": [
       "{'Jigglypuff': {'name': 'jigglypuff',\n",
       "  'types': ['normal', 'fairy'],\n",
       "  'abilities': ['cute-charm', 'competitive', 'friend-guard'],\n",
       "  'weight': 55},\n",
       " 'Hitmonlee': {'name': 'hitmonlee',\n",
       "  'types': ['fighting'],\n",
       "  'abilities': ['limber', 'reckless', 'unburden'],\n",
       "  'weight': 498},\n",
       " 'Rayquaza': {'name': 'rayquaza',\n",
       "  'types': ['dragon', 'flying'],\n",
       "  'abilities': ['air-lock'],\n",
       "  'weight': 2065},\n",
       " 'Ditto': {'name': 'ditto',\n",
       "  'types': ['normal'],\n",
       "  'abilities': ['limber', 'imposter'],\n",
       "  'weight': 40},\n",
       " 'Gyarados': {'name': 'gyarados',\n",
       "  'types': ['water', 'flying'],\n",
       "  'abilities': ['intimidate', 'moxie'],\n",
       "  'weight': 2350},\n",
       " 'Mewtwo': {'name': 'mewtwo',\n",
       "  'types': ['psychic'],\n",
       "  'abilities': ['pressure', 'unnerve'],\n",
       "  'weight': 1220}}"
      ]
     },
     "execution_count": 32,
     "metadata": {},
     "output_type": "execute_result"
    }
   ],
   "source": [
    "# Place all 6 of your pokemon on the object below, each pokemon should have at least as much info as Pikachu did.\n",
    "party = ['jigglypuff','hitmonlee', 'rayquaza', 'ditto', 'gyarados', 'mewtwo']\n",
    "my_six_pokemon = {}\n",
    "for pokemon in party:\n",
    "    poke_stats = poke_api_call(pokemon)\n",
    "    my_six_pokemon[poke_stats['name'].title()] = poke_stats\n",
    "    \n",
    "my_six_pokemon"
   ]
  },
  {
   "cell_type": "markdown",
   "metadata": {},
   "source": [
    "## Lets create a class called 'Pokemon' and create our pokemon as instances"
   ]
  },
  {
   "cell_type": "code",
   "execution_count": 36,
   "metadata": {},
   "outputs": [
    {
     "name": "stdout",
     "output_type": "stream",
     "text": [
      "You caught a bulbasaur!\n"
     ]
    }
   ],
   "source": [
    "class Pokemon1:\n",
    "    def __init__(self, name):\n",
    "        self.name = name\n",
    "        \n",
    "    def __repr__(self):\n",
    "        return f\"You caught a {self.name}!\"\n",
    "    \n",
    "bulbasaur = Pokemon1('bulbasaur')\n",
    "print(bulbasaur)"
   ]
  },
  {
   "cell_type": "code",
   "execution_count": 39,
   "metadata": {},
   "outputs": [],
   "source": [
    "class Pokemon():\n",
    "    def __init__(self, name):\n",
    "        self.name = name\n",
    "        self.types = []\n",
    "        self.abilities = []\n",
    "        self.weight = None\n",
    "        self.poke_api_call()\n",
    "        \n",
    "    def poke_api_call(self):\n",
    "        r = requests.get(f\"https://pokeapi.co/api/v2/pokemon/{self.name.lower()}\")\n",
    "        if r.status_code == 200:\n",
    "            pokemon = r.json()\n",
    "        else:\n",
    "            print(f\"Please check pokemon name spelling and try again: {r.status_code}\")\n",
    "            return\n",
    "        self.name = pokemon['name']\n",
    "        self.types = [type_['type']['name'] for type_ in pokemon['types']]\n",
    "        self.abilities = [ability['ability']['name'] for ability in pokemon['abilities']]\n",
    "        self.weight = pokemon['weight']\n",
    "        print(f\"{self.name}'s data has been updated!\")\n",
    "        \n",
    "    def __repr__(self):\n",
    "        return f\"You caught a {self.name}!\""
   ]
  },
  {
   "cell_type": "markdown",
   "metadata": {},
   "source": [
    "### Let's Catch some Pokemon"
   ]
  },
  {
   "cell_type": "code",
   "execution_count": 40,
   "metadata": {},
   "outputs": [
    {
     "name": "stdout",
     "output_type": "stream",
     "text": [
      "pikachu's data has been updated!\n",
      "{'name': 'pikachu', 'types': ['electric'], 'abilities': ['static', 'lightning-rod'], 'weight': 60}\n",
      "You caught a pikachu!\n",
      "60\n"
     ]
    }
   ],
   "source": [
    "pikachu = Pokemon('pikachu')\n",
    "print(pikachu.__dict__)\n",
    "print(pikachu)\n",
    "print(pikachu.weight)"
   ]
  },
  {
   "cell_type": "code",
   "execution_count": 41,
   "metadata": {},
   "outputs": [
    {
     "name": "stdout",
     "output_type": "stream",
     "text": [
      "jigglypuff's data has been updated!\n",
      "hitmonlee's data has been updated!\n",
      "rayquaza's data has been updated!\n",
      "ditto's data has been updated!\n",
      "gyarados's data has been updated!\n",
      "mewtwo's data has been updated!\n",
      "{'Jigglypuff': {'name': 'jigglypuff', 'types': ['normal', 'fairy'], 'abilities': ['cute-charm', 'competitive', 'friend-guard'], 'weight': 55}, 'Hitmonlee': {'name': 'hitmonlee', 'types': ['fighting'], 'abilities': ['limber', 'reckless', 'unburden'], 'weight': 498}, 'Rayquaza': {'name': 'rayquaza', 'types': ['dragon', 'flying'], 'abilities': ['air-lock'], 'weight': 2065}, 'Ditto': {'name': 'ditto', 'types': ['normal'], 'abilities': ['limber', 'imposter'], 'weight': 40}, 'Gyarados': {'name': 'gyarados', 'types': ['water', 'flying'], 'abilities': ['intimidate', 'moxie'], 'weight': 2350}, 'Mewtwo': {'name': 'mewtwo', 'types': ['psychic'], 'abilities': ['pressure', 'unnerve'], 'weight': 1220}}\n"
     ]
    }
   ],
   "source": [
    "party = ['jigglypuff','hitmonlee', 'rayquaza', 'ditto', 'gyarados', 'mewtwo']\n",
    "pokedex = {}\n",
    "for name in party:\n",
    "    new = Pokemon(name)\n",
    "    pokedex[new.name.title()] = new.__dict__\n",
    "print(pokedex)"
   ]
  },
  {
   "cell_type": "markdown",
   "metadata": {},
   "source": [
    "## Exercise 1:"
   ]
  },
  {
   "cell_type": "markdown",
   "metadata": {},
   "source": [
    "### Create a Method prints an image of your pokemon\n",
    "\n",
    "<p>HINT: You may need another attribute as well to store your image url within. </p>"
   ]
  },
  {
   "cell_type": "code",
   "execution_count": 43,
   "metadata": {},
   "outputs": [],
   "source": [
    "# Display an image in Jupyter notebook\n",
    "from IPython.display import Image\n",
    "\n",
    "# display(Image( 'https://i.redd.it/45n4mhusa8l41.jpg', width = 300))\n"
   ]
  },
  {
   "cell_type": "code",
   "execution_count": 53,
   "metadata": {},
   "outputs": [],
   "source": [
    "# recreate your pokemon class here\n",
    "class Pokemon:\n",
    "    def __init__(self, name):\n",
    "        self.name = name\n",
    "        self.types = []\n",
    "        self.abilities = []\n",
    "        self.weight = None\n",
    "        self.image = None\n",
    "        self.poke_api_call()\n",
    "        \n",
    "    def poke_api_call(self):\n",
    "        r = requests.get(f\"https://pokeapi.co/api/v2/pokemon/{self.name.lower()}\")\n",
    "        if r.status_code == 200:\n",
    "            pokemon = r.json()\n",
    "        else:\n",
    "            print(f\"Please check the spelling of your pokemon's name and try again!: {r.status_code}\")\n",
    "            return\n",
    "        \n",
    "        self.name = pokemon['name']\n",
    "        self.types = [type_['type']['name'] for type_ in pokemon['types']]\n",
    "        self.abilities = [ability['ability']['name'] for ability in pokemon['abilities']]\n",
    "        self.weight = pokemon['weight']\n",
    "        self.image = pokemon['sprites']['front_shiny']\n",
    "        print(f\"{self.name}'s data has been updated!\")\n",
    "        \n",
    "    def display(self):\n",
    "        display(Image(url = self.image))\n",
    "        \n",
    "    def __repr__(self):\n",
    "        return f\"You caught a {self.name}!\"\n",
    "        "
   ]
  },
  {
   "cell_type": "code",
   "execution_count": 59,
   "metadata": {},
   "outputs": [
    {
     "name": "stdout",
     "output_type": "stream",
     "text": [
      "charmander's data has been updated!\n"
     ]
    },
    {
     "data": {
      "text/html": [
       "<img src=\"https://raw.githubusercontent.com/PokeAPI/sprites/master/sprites/pokemon/shiny/4.png\"/>"
      ],
      "text/plain": [
       "<IPython.core.display.Image object>"
      ]
     },
     "metadata": {},
     "output_type": "display_data"
    }
   ],
   "source": [
    "charmander = Pokemon('charmander')\n",
    "charmander.display()"
   ]
  },
  {
   "cell_type": "code",
   "execution_count": 55,
   "metadata": {},
   "outputs": [
    {
     "data": {
      "text/html": [
       "<img src=\"https://raw.githubusercontent.com/PokeAPI/sprites/master/sprites/pokemon/shiny/6.png\"/>"
      ],
      "text/plain": [
       "<IPython.core.display.Image object>"
      ]
     },
     "metadata": {},
     "output_type": "display_data"
    }
   ],
   "source": [
    "# Calling our new method\n",
    "charizard.display()\n"
   ]
  },
  {
   "cell_type": "markdown",
   "metadata": {},
   "source": [
    "## Exercise 2:"
   ]
  },
  {
   "cell_type": "markdown",
   "metadata": {},
   "source": [
    "### Create a Method that evolves your Pokemon\n",
    "If your pokemon can't evolve any further print a message that says \"\\<name of pokemon> can't evolve.\""
   ]
  },
  {
   "cell_type": "markdown",
   "metadata": {},
   "source": [
    "Now let's evolve a few"
   ]
  },
  {
   "cell_type": "code",
   "execution_count": 4,
   "metadata": {
    "scrolled": true
   },
   "outputs": [
    {
     "ename": "NameError",
     "evalue": "name 'Evolver' is not defined",
     "output_type": "error",
     "traceback": [
      "\u001b[1;31m---------------------------------------------------------------------------\u001b[0m",
      "\u001b[1;31mNameError\u001b[0m                                 Traceback (most recent call last)",
      "Cell \u001b[1;32mIn [4], line 2\u001b[0m\n\u001b[0;32m      1\u001b[0m \u001b[38;5;66;03m# recreate your pokemon class here\u001b[39;00m\n\u001b[1;32m----> 2\u001b[0m \u001b[38;5;28;01mclass\u001b[39;00m \u001b[38;5;21;01mPokemon\u001b[39;00m(\u001b[43mEvolver\u001b[49m, Move_Tutor):\n\u001b[0;32m      3\u001b[0m     \u001b[38;5;28;01mdef\u001b[39;00m \u001b[38;5;21m__init__\u001b[39m(\u001b[38;5;28mself\u001b[39m, name):\n\u001b[0;32m      4\u001b[0m         \u001b[38;5;28mself\u001b[39m\u001b[38;5;241m.\u001b[39mname \u001b[38;5;241m=\u001b[39m name\u001b[38;5;241m.\u001b[39mtitle()\n",
      "\u001b[1;31mNameError\u001b[0m: name 'Evolver' is not defined"
     ]
    }
   ],
   "source": [
    "# recreate your pokemon class here\n",
    "class Pokemon(Evolver, Move_Tutor):\n",
    "    def __init__(self, name):\n",
    "        self.name = name.title()\n",
    "        self.types = []\n",
    "        self.abilities = []\n",
    "        self.weight = None\n",
    "        self.image = None\n",
    "        self.poke_api_call()\n",
    "        \n",
    "    def poke_api_call(self):\n",
    "        r = requests.get(f\"https://pokeapi.co/api/v2/pokemon/{self.name.lower()}\")\n",
    "        if r.status_code == 200:\n",
    "            pokemon = r.json()\n",
    "        else:\n",
    "            print(f\"Please check the spelling of your pokemon's name and try again!: {r.status_code}\")\n",
    "            return\n",
    "        \n",
    "        self.name = pokemon['name']\n",
    "        self.types = [type_['type']['name'] for type_ in pokemon['types']]\n",
    "        self.abilities = [ability['ability']['name'] for ability in pokemon['abilities']]\n",
    "        self.weight = pokemon['weight']\n",
    "        self.image = pokemon['sprites']['front_shiny']\n",
    "        print(f\"{self.name}'s data has been updated!\")\n",
    "        \n",
    "    def display(self):\n",
    "        display(Image(url = self.image))\n",
    "        \n",
    "    def __repr__(self):\n",
    "        return f\"You caught a {self.name}!\"\n",
    "        "
   ]
  },
  {
   "cell_type": "code",
   "execution_count": 77,
   "metadata": {},
   "outputs": [
    {
     "name": "stdout",
     "output_type": "stream",
     "text": [
      "charmander's data has been updated!\n",
      "..........\n",
      "Your charmander is evolving?!?!?!?!\n"
     ]
    },
    {
     "data": {
      "text/html": [
       "<img src=\"https://raw.githubusercontent.com/PokeAPI/sprites/master/sprites/pokemon/shiny/4.png\"/>"
      ],
      "text/plain": [
       "<IPython.core.display.Image object>"
      ]
     },
     "metadata": {},
     "output_type": "display_data"
    },
    {
     "name": "stdout",
     "output_type": "stream",
     "text": [
      "..........\n",
      "Congratulations!! Your charmander has evolved to........\n",
      "charmeleon's data has been updated!\n",
      "charmeleon!!!!\n"
     ]
    },
    {
     "data": {
      "text/html": [
       "<img src=\"https://raw.githubusercontent.com/PokeAPI/sprites/master/sprites/pokemon/shiny/5.png\"/>"
      ],
      "text/plain": [
       "<IPython.core.display.Image object>"
      ]
     },
     "metadata": {},
     "output_type": "display_data"
    }
   ],
   "source": [
    "charmander = Pokemon('charmander')\n",
    "charmander.evolve()"
   ]
  },
  {
   "cell_type": "code",
   "execution_count": null,
   "metadata": {},
   "outputs": [],
   "source": []
  },
  {
   "cell_type": "markdown",
   "metadata": {},
   "source": [
    "#  Final Exercise: <br> <br>Create a Move_Tutor Class that will allow the Pokemon Class to inherit a move list.\n",
    "<br>\n",
    "<p>for an added bonus you can make sure that if a pokemon has 4 moves the user can choose one of them to replace with a new move. </p>"
   ]
  },
  {
   "cell_type": "code",
   "execution_count": 28,
   "metadata": {},
   "outputs": [],
   "source": [
    "from time import sleep\n",
    "import requests\n",
    "from IPython.display import Image\n",
    "from IPython.display import clear_output\n",
    "\n",
    "class Evolver:\n",
    "    def evolve(self):\n",
    "        r = requests.get(f\"https://pokeapi.co/api/v2/pokemon-species/{self.name}/\")\n",
    "        if r.status_code == 200:\n",
    "            pokemon_species = r.json()\n",
    "        else:\n",
    "            print(f\"Ran into an issue, please check your pokemon's name: {r.status_code}\")\n",
    "            \n",
    "        r = requests.get(pokemon_species['evolution_chain']['url'])\n",
    "        if r.status_code == 200:\n",
    "            ev_chain = r.json()\n",
    "            ev_chain = ev_chain['chain']\n",
    "        else:\n",
    "            print(f\"Ran into an issue, please check your pokemon's name: {r.status_code}\")\n",
    "            return\n",
    "        \n",
    "        base_name = ev_chain['species']['name']\n",
    "        evolution = ev_chain['evolves_to'][0]\n",
    "        evolution_name = evolution['species']['name']\n",
    "        \n",
    "        if base_name == self.name:\n",
    "            pass\n",
    "        elif evolution_name == self.name:\n",
    "            evolution_name = evolution['evolves_to'][0]['species']['name']\n",
    "        else:\n",
    "            print(f\"You cannot evolve your {self.name} any further...\")\n",
    "            return\n",
    "        \n",
    "        \n",
    "        print(\"..........\")\n",
    "        sleep(1)\n",
    "        print(f\"Your {self.name} is evolving?!?!?!?!\")\n",
    "        self.display()\n",
    "        sleep(1)\n",
    "        print('..........')\n",
    "        print(f\"Congratulations!! Your {self.name} has evolved to........\")\n",
    "        self.name = evolution_name\n",
    "        self.poke_api_call()\n",
    "        print(f\"{self.name}!!!!\")\n",
    "        self.display()\n",
    "        self.new_moves = []"
   ]
  },
  {
   "cell_type": "code",
   "execution_count": 27,
   "metadata": {},
   "outputs": [],
   "source": [
    "class Move_Tutor:        \n",
    "    def teach_move(self):\n",
    "        clear_output()\n",
    "        for move in self.moves:\n",
    "            print(move.title())\n",
    "        print(f\"\\nHere is {self.name.title()}'s current moveset: {list(map(lambda x: x.title(), self.new_moves))}\")\n",
    "        while True:\n",
    "            move_choice = input(\"\\nLooks like you are trying to learn a new move, please enter a move from these choices: \")\n",
    "            if move_choice.lower() in self.moves and len(self.new_moves) < 4 and move_choice.lower() not in self.new_moves:\n",
    "                clear_output()\n",
    "                self.new_moves.append(move_choice.lower())\n",
    "                print('..........')\n",
    "                sleep(2)\n",
    "                print(f\"{self.name.title()} has learned {move_choice.title()}!!!\")\n",
    "                print(f\"\\nHere are {self.name.title()}'s current moves:\")\n",
    "                for move in self.new_moves:\n",
    "                    print(move.title())\n",
    "                break\n",
    "            elif move_choice.lower() in self.moves and len(self.new_moves) >= 4 and move_choice.lower() not in self.new_moves:\n",
    "                clear_output()\n",
    "                for move in self.new_moves:\n",
    "                    print(move.title())\n",
    "                replace_move = input(f\"{self.name.title()} already has 4 moves, choose 1 move to replace: \")\n",
    "                while True:\n",
    "                    if replace_move.lower() not in self.new_moves:\n",
    "                        replace_move = input(f\"\\n{self.name.title()} does not have that move, please enter a move on the above list: \")\n",
    "                    else:\n",
    "                        clear_output()\n",
    "                        print(f\"{self.name.title()} has forgotten {replace_move.title()}!!!\")\n",
    "                        print('..........')\n",
    "                        sleep(2)\n",
    "                        print(f\"{self.name.title()} has learned {move_choice.title()}!!!\")\n",
    "                        self.new_moves.append(move_choice.lower())\n",
    "                        self.new_moves.remove(replace_move.lower())\n",
    "                        break\n",
    "                print(f\"\\nHere are {self.name.title()}'s current moves:\")\n",
    "                for move in self.new_moves:\n",
    "                    print(move.title())\n",
    "                break\n",
    "            else:\n",
    "                print(\"\\nThat move is not available, please check for any typos and try again (You cannot pick a current move)\")\n",
    "    \n",
    "    def show_moves(self):\n",
    "        print(f\"Here is {self.name.title()}'s current moveset: {list(map(lambda x: x.title(), self.new_moves))}\")\n",
    "    "
   ]
  },
  {
   "cell_type": "code",
   "execution_count": 26,
   "metadata": {},
   "outputs": [],
   "source": [
    "class Pokemon(Evolver, Move_Tutor):\n",
    "    def __init__(self, name):\n",
    "        self.name = name.title()\n",
    "        self.types = []\n",
    "        self.abilities = []\n",
    "        self.weight = None\n",
    "        self.image = None\n",
    "        self.moves = []\n",
    "        self.new_moves = []\n",
    "        self.poke_api_call()\n",
    "        \n",
    "    def poke_api_call(self):\n",
    "        r = requests.get(f\"https://pokeapi.co/api/v2/pokemon/{self.name.lower()}\")\n",
    "        if r.status_code == 200:\n",
    "            pokemon = r.json()\n",
    "        else:\n",
    "            print(f\"Please check the spelling of your pokemon's name and try again!: {r.status_code}\")\n",
    "            return\n",
    "        \n",
    "        self.name = pokemon['name']\n",
    "        self.types = [type_['type']['name'] for type_ in pokemon['types']]\n",
    "        self.abilities = [ability['ability']['name'] for ability in pokemon['abilities']]\n",
    "        self.weight = pokemon['weight']\n",
    "        self.image = pokemon['sprites']['front_shiny']\n",
    "        self.moves = [move['move']['name'] for move in pokemon['moves']]\n",
    "        print(f\"{self.name}'s data has been updated!\")\n",
    "        \n",
    "    def display(self):\n",
    "        display(Image(url = self.image))\n",
    "        \n",
    "    def __repr__(self):\n",
    "        return f\"You caught a {self.name}!\""
   ]
  },
  {
   "cell_type": "code",
   "execution_count": 29,
   "metadata": {},
   "outputs": [
    {
     "name": "stdout",
     "output_type": "stream",
     "text": [
      "pikachu's data has been updated!\n"
     ]
    }
   ],
   "source": [
    "pikachu = Pokemon('pikachu')"
   ]
  },
  {
   "cell_type": "code",
   "execution_count": 5,
   "metadata": {},
   "outputs": [],
   "source": [
    "pikachu.evolve()"
   ]
  },
  {
   "cell_type": "code",
   "execution_count": 6,
   "metadata": {},
   "outputs": [],
   "source": [
    "pikachu.teach_move()"
   ]
  },
  {
   "cell_type": "code",
   "execution_count": 30,
   "metadata": {},
   "outputs": [
    {
     "name": "stdout",
     "output_type": "stream",
     "text": [
      "Here is Pikachu's current moveset: []\n"
     ]
    }
   ],
   "source": [
    "pikachu.show_moves()"
   ]
  }
 ],
 "metadata": {
  "kernelspec": {
   "display_name": "Python 3 (ipykernel)",
   "language": "python",
   "name": "python3"
  },
  "language_info": {
   "codemirror_mode": {
    "name": "ipython",
    "version": 3
   },
   "file_extension": ".py",
   "mimetype": "text/x-python",
   "name": "python",
   "nbconvert_exporter": "python",
   "pygments_lexer": "ipython3",
   "version": "3.10.8"
  }
 },
 "nbformat": 4,
 "nbformat_minor": 4
}
